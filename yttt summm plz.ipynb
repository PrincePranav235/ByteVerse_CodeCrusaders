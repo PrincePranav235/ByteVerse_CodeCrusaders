{
 "cells": [
  {
   "cell_type": "code",
   "execution_count": 1,
   "id": "5f7ba90e",
   "metadata": {},
   "outputs": [],
   "source": [
    "!pip install -q transformers"
   ]
  },
  {
   "cell_type": "code",
   "execution_count": 2,
   "id": "98a40597",
   "metadata": {},
   "outputs": [],
   "source": [
    "!pip install -q youtube_transcript_api"
   ]
  },
  {
   "cell_type": "code",
   "execution_count": 3,
   "id": "5febcac8",
   "metadata": {},
   "outputs": [
    {
     "name": "stdout",
     "output_type": "stream",
     "text": [
      "Requirement already satisfied: pip in c:\\users\\hp\\anaconda3\\lib\\site-packages (21.2.4)\n",
      "Collecting pip\n",
      "  Using cached pip-23.1-py3-none-any.whl (2.1 MB)\n",
      "Installing collected packages: pip\n",
      "  Attempting uninstall: pip\n",
      "    Found existing installation: pip 21.2.4\n",
      "    Uninstalling pip-21.2.4:\n",
      "      Successfully uninstalled pip-21.2.4\n"
     ]
    },
    {
     "name": "stderr",
     "output_type": "stream",
     "text": [
      "ERROR: Could not install packages due to an OSError: [WinError 5] Access is denied: 'C:\\\\Users\\\\HP\\\\AppData\\\\Local\\\\Temp\\\\pip-uninstall-9dnv55zd\\\\pip.exe'\n",
      "Consider using the `--user` option or check the permissions.\n",
      "\n"
     ]
    },
    {
     "name": "stdout",
     "output_type": "stream",
     "text": [
      "Requirement already satisfied: tf in c:\\users\\hp\\anaconda3\\lib\\site-packages (1.0.0)\n",
      "Requirement already satisfied: tensorflow in c:\\users\\hp\\anaconda3\\lib\\site-packages (2.12.0)\n",
      "Requirement already satisfied: tensorflow-intel==2.12.0 in c:\\users\\hp\\anaconda3\\lib\\site-packages (from tensorflow) (2.12.0)\n",
      "Requirement already satisfied: absl-py>=1.0.0 in c:\\users\\hp\\anaconda3\\lib\\site-packages (from tensorflow-intel==2.12.0->tensorflow) (1.4.0)\n",
      "Requirement already satisfied: astunparse>=1.6.0 in c:\\users\\hp\\anaconda3\\lib\\site-packages (from tensorflow-intel==2.12.0->tensorflow) (1.6.3)\n",
      "Requirement already satisfied: flatbuffers>=2.0 in c:\\users\\hp\\anaconda3\\lib\\site-packages (from tensorflow-intel==2.12.0->tensorflow) (23.3.3)\n",
      "Requirement already satisfied: gast<=0.4.0,>=0.2.1 in c:\\users\\hp\\anaconda3\\lib\\site-packages (from tensorflow-intel==2.12.0->tensorflow) (0.4.0)\n",
      "Requirement already satisfied: google-pasta>=0.1.1 in c:\\users\\hp\\anaconda3\\lib\\site-packages (from tensorflow-intel==2.12.0->tensorflow) (0.2.0)\n",
      "Requirement already satisfied: h5py>=2.9.0 in c:\\users\\hp\\anaconda3\\lib\\site-packages (from tensorflow-intel==2.12.0->tensorflow) (3.2.1)\n",
      "Requirement already satisfied: jax>=0.3.15 in c:\\users\\hp\\anaconda3\\lib\\site-packages (from tensorflow-intel==2.12.0->tensorflow) (0.4.8)\n",
      "Requirement already satisfied: libclang>=13.0.0 in c:\\users\\hp\\anaconda3\\lib\\site-packages (from tensorflow-intel==2.12.0->tensorflow) (16.0.0)\n",
      "Requirement already satisfied: numpy<1.24,>=1.22 in c:\\users\\hp\\anaconda3\\lib\\site-packages (from tensorflow-intel==2.12.0->tensorflow) (1.22.4)\n",
      "Requirement already satisfied: opt-einsum>=2.3.2 in c:\\users\\hp\\anaconda3\\lib\\site-packages (from tensorflow-intel==2.12.0->tensorflow) (3.3.0)\n",
      "Requirement already satisfied: packaging in c:\\users\\hp\\anaconda3\\lib\\site-packages (from tensorflow-intel==2.12.0->tensorflow) (21.0)\n",
      "Requirement already satisfied: protobuf!=4.21.0,!=4.21.1,!=4.21.2,!=4.21.3,!=4.21.4,!=4.21.5,<5.0.0dev,>=3.20.3 in c:\\users\\hp\\anaconda3\\lib\\site-packages (from tensorflow-intel==2.12.0->tensorflow) (4.22.3)\n",
      "Requirement already satisfied: setuptools in c:\\users\\hp\\anaconda3\\lib\\site-packages (from tensorflow-intel==2.12.0->tensorflow) (58.0.4)\n",
      "Requirement already satisfied: six>=1.12.0 in c:\\users\\hp\\anaconda3\\lib\\site-packages (from tensorflow-intel==2.12.0->tensorflow) (1.16.0)\n",
      "Requirement already satisfied: termcolor>=1.1.0 in c:\\users\\hp\\anaconda3\\lib\\site-packages (from tensorflow-intel==2.12.0->tensorflow) (2.2.0)\n",
      "Requirement already satisfied: typing-extensions>=3.6.6 in c:\\users\\hp\\anaconda3\\lib\\site-packages (from tensorflow-intel==2.12.0->tensorflow) (3.10.0.2)\n",
      "Requirement already satisfied: wrapt<1.15,>=1.11.0 in c:\\users\\hp\\anaconda3\\lib\\site-packages (from tensorflow-intel==2.12.0->tensorflow) (1.12.1)\n",
      "Requirement already satisfied: grpcio<2.0,>=1.24.3 in c:\\users\\hp\\anaconda3\\lib\\site-packages (from tensorflow-intel==2.12.0->tensorflow) (1.53.0)\n",
      "Requirement already satisfied: tensorboard<2.13,>=2.12 in c:\\users\\hp\\anaconda3\\lib\\site-packages (from tensorflow-intel==2.12.0->tensorflow) (2.12.2)\n",
      "Requirement already satisfied: tensorflow-estimator<2.13,>=2.12.0 in c:\\users\\hp\\anaconda3\\lib\\site-packages (from tensorflow-intel==2.12.0->tensorflow) (2.12.0)\n",
      "Requirement already satisfied: keras<2.13,>=2.12.0 in c:\\users\\hp\\anaconda3\\lib\\site-packages (from tensorflow-intel==2.12.0->tensorflow) (2.12.0)\n",
      "Requirement already satisfied: tensorflow-io-gcs-filesystem>=0.23.1 in c:\\users\\hp\\anaconda3\\lib\\site-packages (from tensorflow-intel==2.12.0->tensorflow) (0.31.0)\n",
      "Requirement already satisfied: wheel<1.0,>=0.23.0 in c:\\users\\hp\\anaconda3\\lib\\site-packages (from astunparse>=1.6.0->tensorflow-intel==2.12.0->tensorflow) (0.37.0)\n",
      "Requirement already satisfied: ml-dtypes>=0.0.3 in c:\\users\\hp\\anaconda3\\lib\\site-packages (from jax>=0.3.15->tensorflow-intel==2.12.0->tensorflow) (0.1.0)\n",
      "Requirement already satisfied: scipy>=1.7 in c:\\users\\hp\\anaconda3\\lib\\site-packages (from jax>=0.3.15->tensorflow-intel==2.12.0->tensorflow) (1.7.1)\n",
      "Requirement already satisfied: google-auth<3,>=1.6.3 in c:\\users\\hp\\anaconda3\\lib\\site-packages (from tensorboard<2.13,>=2.12->tensorflow-intel==2.12.0->tensorflow) (2.17.3)\n",
      "Requirement already satisfied: google-auth-oauthlib<1.1,>=0.5 in c:\\users\\hp\\anaconda3\\lib\\site-packages (from tensorboard<2.13,>=2.12->tensorflow-intel==2.12.0->tensorflow) (1.0.0)\n",
      "Requirement already satisfied: markdown>=2.6.8 in c:\\users\\hp\\anaconda3\\lib\\site-packages (from tensorboard<2.13,>=2.12->tensorflow-intel==2.12.0->tensorflow) (3.4.3)\n",
      "Requirement already satisfied: requests<3,>=2.21.0 in c:\\users\\hp\\anaconda3\\lib\\site-packages (from tensorboard<2.13,>=2.12->tensorflow-intel==2.12.0->tensorflow) (2.28.2)\n",
      "Requirement already satisfied: tensorboard-data-server<0.8.0,>=0.7.0 in c:\\users\\hp\\anaconda3\\lib\\site-packages (from tensorboard<2.13,>=2.12->tensorflow-intel==2.12.0->tensorflow) (0.7.0)\n",
      "Requirement already satisfied: tensorboard-plugin-wit>=1.6.0 in c:\\users\\hp\\anaconda3\\lib\\site-packages (from tensorboard<2.13,>=2.12->tensorflow-intel==2.12.0->tensorflow) (1.8.1)\n",
      "Requirement already satisfied: werkzeug>=1.0.1 in c:\\users\\hp\\anaconda3\\lib\\site-packages (from tensorboard<2.13,>=2.12->tensorflow-intel==2.12.0->tensorflow) (2.0.2)\n",
      "Requirement already satisfied: pyparsing>=2.0.2 in c:\\users\\hp\\anaconda3\\lib\\site-packages (from packaging->tensorflow-intel==2.12.0->tensorflow) (3.0.4)\n",
      "Requirement already satisfied: cachetools<6.0,>=2.0.0 in c:\\users\\hp\\anaconda3\\lib\\site-packages (from google-auth<3,>=1.6.3->tensorboard<2.13,>=2.12->tensorflow-intel==2.12.0->tensorflow) (5.3.0)\n",
      "Requirement already satisfied: pyasn1-modules>=0.2.1 in c:\\users\\hp\\anaconda3\\lib\\site-packages (from google-auth<3,>=1.6.3->tensorboard<2.13,>=2.12->tensorflow-intel==2.12.0->tensorflow) (0.2.8)\n",
      "Requirement already satisfied: rsa<5,>=3.1.4 in c:\\users\\hp\\anaconda3\\lib\\site-packages (from google-auth<3,>=1.6.3->tensorboard<2.13,>=2.12->tensorflow-intel==2.12.0->tensorflow) (4.9)\n",
      "Requirement already satisfied: requests-oauthlib>=0.7.0 in c:\\users\\hp\\anaconda3\\lib\\site-packages (from google-auth-oauthlib<1.1,>=0.5->tensorboard<2.13,>=2.12->tensorflow-intel==2.12.0->tensorflow) (1.3.1)\n",
      "Requirement already satisfied: importlib-metadata>=4.4 in c:\\users\\hp\\anaconda3\\lib\\site-packages (from markdown>=2.6.8->tensorboard<2.13,>=2.12->tensorflow-intel==2.12.0->tensorflow) (4.8.1)\n",
      "Requirement already satisfied: charset-normalizer<4,>=2 in c:\\users\\hp\\anaconda3\\lib\\site-packages (from requests<3,>=2.21.0->tensorboard<2.13,>=2.12->tensorflow-intel==2.12.0->tensorflow) (2.0.4)\n",
      "Requirement already satisfied: idna<4,>=2.5 in c:\\users\\hp\\anaconda3\\lib\\site-packages (from requests<3,>=2.21.0->tensorboard<2.13,>=2.12->tensorflow-intel==2.12.0->tensorflow) (3.2)\n",
      "Requirement already satisfied: urllib3<1.27,>=1.21.1 in c:\\users\\hp\\anaconda3\\lib\\site-packages (from requests<3,>=2.21.0->tensorboard<2.13,>=2.12->tensorflow-intel==2.12.0->tensorflow) (1.26.7)\n",
      "Requirement already satisfied: certifi>=2017.4.17 in c:\\users\\hp\\anaconda3\\lib\\site-packages (from requests<3,>=2.21.0->tensorboard<2.13,>=2.12->tensorflow-intel==2.12.0->tensorflow) (2021.10.8)\n",
      "Requirement already satisfied: zipp>=0.5 in c:\\users\\hp\\anaconda3\\lib\\site-packages (from importlib-metadata>=4.4->markdown>=2.6.8->tensorboard<2.13,>=2.12->tensorflow-intel==2.12.0->tensorflow) (3.6.0)\n",
      "Requirement already satisfied: pyasn1<0.5.0,>=0.4.6 in c:\\users\\hp\\anaconda3\\lib\\site-packages (from pyasn1-modules>=0.2.1->google-auth<3,>=1.6.3->tensorboard<2.13,>=2.12->tensorflow-intel==2.12.0->tensorflow) (0.4.8)\n",
      "Requirement already satisfied: oauthlib>=3.0.0 in c:\\users\\hp\\anaconda3\\lib\\site-packages (from requests-oauthlib>=0.7.0->google-auth-oauthlib<1.1,>=0.5->tensorboard<2.13,>=2.12->tensorflow-intel==2.12.0->tensorflow) (3.2.2)\n"
     ]
    }
   ],
   "source": [
    "from transformers import pipeline\n",
    "!pip install --upgrade pip\n",
    "!pip install tf\n",
    "!pip install tensorflow\n"
   ]
  },
  {
   "cell_type": "code",
   "execution_count": 4,
   "id": "b014d20a",
   "metadata": {},
   "outputs": [],
   "source": [
    "from youtube_transcript_api import YouTubeTranscriptApi"
   ]
  },
  {
   "cell_type": "code",
   "execution_count": 5,
   "id": "ccef2f17",
   "metadata": {},
   "outputs": [],
   "source": [
    "youtube_video=\"https://www.youtube.com/watch?v=F1ry24LQqUY\""
   ]
  },
  {
   "cell_type": "code",
   "execution_count": 6,
   "id": "ec2fc907",
   "metadata": {},
   "outputs": [],
   "source": [
    "video_id=youtube_video.split(\"=\")[1]"
   ]
  },
  {
   "cell_type": "code",
   "execution_count": 7,
   "id": "8f1433a2",
   "metadata": {},
   "outputs": [
    {
     "data": {
      "text/plain": [
       "'F1ry24LQqUY'"
      ]
     },
     "execution_count": 7,
     "metadata": {},
     "output_type": "execute_result"
    }
   ],
   "source": [
    "video_id"
   ]
  },
  {
   "cell_type": "code",
   "execution_count": 8,
   "id": "d50b0d2d",
   "metadata": {},
   "outputs": [],
   "source": [
    "YouTubeTranscriptApi.get_transcript(video_id)\n",
    "transcript=YouTubeTranscriptApi.get_transcript(video_id)"
   ]
  },
  {
   "cell_type": "code",
   "execution_count": 9,
   "id": "fb41968f",
   "metadata": {},
   "outputs": [
    {
     "data": {
      "text/plain": [
       "[{'text': 'YouTube summary is a powerful Chrome',\n",
       "  'start': 0.0,\n",
       "  'duration': 4.62},\n",
       " {'text': 'browser plugin that once installed',\n",
       "  'start': 2.76,\n",
       "  'duration': 4.26},\n",
       " {'text': 'appears on the side of any YouTube video',\n",
       "  'start': 4.62,\n",
       "  'duration': 5.76},\n",
       " {'text': 'and allows you to instantly transcribe',\n",
       "  'start': 7.02,\n",
       "  'duration': 5.999},\n",
       " {'text': 'the video for free it also connects with',\n",
       "  'start': 10.38,\n",
       "  'duration': 4.799}]"
      ]
     },
     "execution_count": 9,
     "metadata": {},
     "output_type": "execute_result"
    }
   ],
   "source": [
    "transcript[0:5]"
   ]
  },
  {
   "cell_type": "code",
   "execution_count": 10,
   "id": "72fbe6e0",
   "metadata": {},
   "outputs": [
    {
     "name": "stdout",
     "output_type": "stream",
     "text": [
      "5144\n"
     ]
    }
   ],
   "source": [
    "result = \"\"\n",
    "for i in transcript:\n",
    "    result += ' ' + i['text']\n",
    "#print(result)\n",
    "print(len(result))"
   ]
  },
  {
   "cell_type": "code",
   "execution_count": 11,
   "id": "184fcc6d",
   "metadata": {},
   "outputs": [
    {
     "name": "stderr",
     "output_type": "stream",
     "text": [
      "No model was supplied, defaulted to t5-small and revision d769bba (https://huggingface.co/t5-small).\n",
      "Using a pipeline without specifying a model name and revision in production is not recommended.\n"
     ]
    },
    {
     "data": {
      "application/vnd.jupyter.widget-view+json": {
       "model_id": "c27eee5b725344f38b9b7a9c1118b305",
       "version_major": 2,
       "version_minor": 0
      },
      "text/plain": [
       "Downloading (…)lve/main/config.json:   0%|          | 0.00/1.21k [00:00<?, ?B/s]"
      ]
     },
     "metadata": {},
     "output_type": "display_data"
    },
    {
     "name": "stderr",
     "output_type": "stream",
     "text": [
      "C:\\Users\\HP\\anaconda3\\lib\\site-packages\\huggingface_hub\\file_download.py:133: UserWarning: `huggingface_hub` cache-system uses symlinks by default to efficiently store duplicated files but your machine does not support them in C:\\Users\\HP\\.cache\\huggingface\\hub. Caching files will still work but in a degraded version that might require more space on your disk. This warning can be disabled by setting the `HF_HUB_DISABLE_SYMLINKS_WARNING` environment variable. For more details, see https://huggingface.co/docs/huggingface_hub/how-to-cache#limitations.\n",
      "To support symlinks on Windows, you either need to activate Developer Mode or to run Python as an administrator. In order to see activate developer mode, see this article: https://docs.microsoft.com/en-us/windows/apps/get-started/enable-your-device-for-development\n",
      "  warnings.warn(message)\n"
     ]
    },
    {
     "data": {
      "application/vnd.jupyter.widget-view+json": {
       "model_id": "bda8a7d5075b4a72afbb8e441396f76e",
       "version_major": 2,
       "version_minor": 0
      },
      "text/plain": [
       "Downloading tf_model.h5:   0%|          | 0.00/242M [00:00<?, ?B/s]"
      ]
     },
     "metadata": {},
     "output_type": "display_data"
    },
    {
     "name": "stderr",
     "output_type": "stream",
     "text": [
      "All model checkpoint layers were used when initializing TFT5ForConditionalGeneration.\n",
      "\n",
      "All the layers of TFT5ForConditionalGeneration were initialized from the model checkpoint at t5-small.\n",
      "If your task is similar to the task the model of the checkpoint was trained on, you can already use TFT5ForConditionalGeneration for predictions without further training.\n"
     ]
    },
    {
     "data": {
      "application/vnd.jupyter.widget-view+json": {
       "model_id": "fda4d8da1fae4ee790586a8c32a7ad91",
       "version_major": 2,
       "version_minor": 0
      },
      "text/plain": [
       "Downloading (…)neration_config.json:   0%|          | 0.00/147 [00:00<?, ?B/s]"
      ]
     },
     "metadata": {},
     "output_type": "display_data"
    },
    {
     "data": {
      "application/vnd.jupyter.widget-view+json": {
       "model_id": "e845c27e8b6b494098dd6e8bfd0d27d4",
       "version_major": 2,
       "version_minor": 0
      },
      "text/plain": [
       "Downloading (…)ve/main/spiece.model:   0%|          | 0.00/792k [00:00<?, ?B/s]"
      ]
     },
     "metadata": {},
     "output_type": "display_data"
    },
    {
     "data": {
      "application/vnd.jupyter.widget-view+json": {
       "model_id": "c2d2eb56c3dd40d6b4e852adb1ac6a3c",
       "version_major": 2,
       "version_minor": 0
      },
      "text/plain": [
       "Downloading (…)/main/tokenizer.json:   0%|          | 0.00/1.39M [00:00<?, ?B/s]"
      ]
     },
     "metadata": {},
     "output_type": "display_data"
    },
    {
     "name": "stderr",
     "output_type": "stream",
     "text": [
      "C:\\Users\\HP\\anaconda3\\lib\\site-packages\\transformers\\models\\t5\\tokenization_t5_fast.py:155: FutureWarning: This tokenizer was incorrectly instantiated with a model max length of 512 which will be corrected in Transformers v5.\n",
      "For now, this behavior is kept to avoid breaking backwards compatibility when padding/encoding with `truncation is True`.\n",
      "- Be aware that you SHOULD NOT rely on t5-small automatically truncating your input to 512 when padding/encoding.\n",
      "- If you want to encode/pad to sequences longer than 512 you can either instantiate this tokenizer with `model_max_length` or pass `max_length` when encoding/padding.\n",
      "- To avoid this warning, please instantiate this tokenizer with `model_max_length` set to your preferred value.\n",
      "  warnings.warn(\n"
     ]
    }
   ],
   "source": [
    "summarizer = pipeline('summarization')"
   ]
  },
  {
   "cell_type": "code",
   "execution_count": 12,
   "id": "d81f9024",
   "metadata": {},
   "outputs": [
    {
     "name": "stderr",
     "output_type": "stream",
     "text": [
      "C:\\Users\\HP\\anaconda3\\lib\\site-packages\\transformers\\generation\\tf_utils.py:745: UserWarning: You have modified the pretrained model configuration to control generation. This is a deprecated strategy to control generation and will be removed soon, in a future version. Please use a generation configuration file (see https://huggingface.co/docs/transformers/main_classes/text_generation)\n",
      "  warnings.warn(\n"
     ]
    },
    {
     "name": "stdout",
     "output_type": "stream",
     "text": [
      "input text \n",
      " YouTube summary is a powerful Chrome browser plugin that once installed appears on the side of any YouTube video and allows you to instantly transcribe the video for free it also connects with chat GPT and allows you to use a few other hidden features that I'm going to show you right now because I'm Owen video the first thing you need to do is go into your computer and open any Chrome browser window you can see I'm on my website just go up to the browser bar at the type and type in Chrome web store you'll get a bunch of search results and then just click on the Chrome web store once you're here you're going to type on YouTube summary and then you're going to get a couple different responses here I'm going to recommend the plugin by clasp.co and the reason I recommend this one is because they have a family of Chrome browser plugins that work well with chat GPT so click on that search result there and then click on the blue button here to add it to your Chrome browser plugins once it's \n",
      "Summarized text\n",
      "YouTube summary is a powerful Chrome browser plugin that once installed appears on the side of any YouTube video and allows you to instantly transcribe the video for free . it also connects with chat GPT and lets you use a few hidden features that I'm going to show you right now .\n",
      "input text \n",
      "fully installed it will change the text to say remove and you can come up here into the upper right hand corner of your browser and you should be able to see it right here it looks like a little piece of watermelon gum now if you don't see it here then you want to click on this little puzzle piece that says extensions scroll down until you find it and then just click highlight the blue pin here and that will pin it up into this section here and you're just about ready to uh to use it so let's go ahead and go over to YouTube and it's important to note that this will work with any YouTube video except if the video is too long so there is sort of a limitation on time and I'm going to show you how to get around that so I'm actually going to go to a video that's a little bit too long let's go to this garyvee video 20 minute video is way too long but let me just show you how it works so the video is playing here and you can see on the right hand side where it says transcript and summary that\n",
      "Summarized text\n",
      "it will change the text to say remove and you can come up here in the upper right hand corner of your browser and you should be able to see it right here it looks like a little piece of watermelon gum now if you don't see it here then you want to click on this little puzzle piece that says extensions scroll down until you find it and then just click highlight the blue pin here and that will pin it up into this section here and you're just about ready to uh to use it so let's go\n",
      "input text \n",
      " is my plugin right there so I can click on the down arrow and immediately you can see that the transcript is there it took like zero time whatsoever okay but this is a whole lot of text here and this app has some additional features that you can use so I can use this plugin to get a transcript of a long video and then I can add it into a Google Document and I can edit it by hand but the video will be too long to put into chat GPT so to get the most from this plugin you should find shorter videos so what I'm going to do is pick a shorter video so I can show you how powerful this plugin really is so let's take a look at this one is three minutes and 47 seconds let me click on that one here and you can see this is Dr Eric Berg is one of my favorites you click on transcript in summary and again we've got all the text here but it's a much shorter video so I can easily copy the transcript here I can open up a YouTube video and I've actually already pasted it from an earlier draft of the vid\n",
      "Summarized text\n",
      "this is my plugin right there so I can click on the down arrow and immediately you can see that the transcript is there it took like zero time whatsoever okay but this is a whole lot of text here and this app has some additional features that you can use . to get the most from this plugin you should find shorter videos so what I'm going to do is pick a shorter video so let's take a look at this one is three minutes and 47 seconds let me click on that one here .\n",
      "input text \n",
      "eo I was making so let's just kind of go back and see you see how that works you can also jump to the current time in the video so a lot of videos are divided into chapters and you can kind of see these little overlays on the bit you could see where the straight lines in between are those are the chapters you could also go into the description box here and you can see that look we've got 106 benefits of fasting so I'm just gonna go to that uh chapter I'm gonna pause it and I'm gonna click on jump to current time you can see I've already jumped to like the meat of the video so I could just highlight this until the end right click and copy it so I can come over here and I can easily just paste this copy where now I can work on obviously I didn't copy the whole thing I was just trying to show you how it how it worked but let me show you maybe my favorite feature of the transcript and summary tool and that is the direct connection to chat GPT so when I click on this a chat GPT video summar\n",
      "Summarized text\n",
      "eo I was making so let's just kind of go back and see you see how that works you can also jump to the current time in the video so a lot of videos are divided into chapters and you can kind of see these little overlays on the bit you could see where the straight lines in between are those are the chapters you could also go into the description box here . we've got 106 benefits of fasting so i'm just gonna go to that uh chapter I'm gonna pause\n",
      "input text \n",
      "y will open right away look at that it's automatically asking chat GPT to give me a summary of this video now we can begin to play with this video so you see how it gave me a a four a four minute video has a summary of just like five or six lines and then take a look in the upper left hand side here how how Chad gbt is automatically labeled this chat for me and now over here I can play with the response like this write me another summary of this video but break it down into easy to read bullet points that would function like a training manual manual and click go and so quickly I'm getting these great results that I can use to write my own blog to create some social media posts and all of that was done in just a few seconds using this great tool called YouTube summary that allows you to summarize all of these videos so how are you gonna use this tool I'd love to hear from you in the comments section below just write it boo and since you're here why don't you check out my next video on i\n"
     ]
    },
    {
     "name": "stderr",
     "output_type": "stream",
     "text": [
      "Your max_length is set to 200, but you input_length is only 38. You might consider decreasing max_length manually, e.g. summarizer('...', max_length=19)\n"
     ]
    },
    {
     "name": "stdout",
     "output_type": "stream",
     "text": [
      "Summarized text\n",
      "y will open right away look at that it's automatically asking chat GPT to give me a summary of this video . now we can begin to play with the response like this write me another summary but break it down into easy to read bullet points that would function like a training manual manual and click go . so quickly I'm getting these great results that I can use to write my own blog to create some social media posts and all of that was done in just a few seconds using this great tool called YouTube summary .\n",
      "input text \n",
      "nstalling the chat GPT plugin directly so you can access chat GPT from any website that you visit click on that video now and I'll see you there\n",
      "Summarized text\n",
      "nstalling the chat GPT plugin directly so you can access chat from any website that you visit click on that video now and I'll see you there .\n"
     ]
    }
   ],
   "source": [
    "num_iters = int(len(result)/1000)\n",
    "summarized_text = []\n",
    "for i in range(0, num_iters + 1):\n",
    "  start = 0\n",
    "  start = i * 1000\n",
    "  end = (i + 1) * 1000\n",
    "  print(\"input text \\n\" + result[start:end])\n",
    "  out = summarizer(result[start:end])\n",
    "  out = out[0]\n",
    "  out = out['summary_text']\n",
    "  print(\"Summarized text\\n\"+out)\n",
    "  summarized_text.append(out)\n",
    "\n",
    "#print(summarized_text)"
   ]
  },
  {
   "cell_type": "code",
   "execution_count": 13,
   "id": "bcb1d20b",
   "metadata": {},
   "outputs": [
    {
     "data": {
      "text/plain": [
       "2347"
      ]
     },
     "execution_count": 13,
     "metadata": {},
     "output_type": "execute_result"
    }
   ],
   "source": [
    "len(str(summarized_text))"
   ]
  },
  {
   "cell_type": "code",
   "execution_count": 14,
   "id": "8f5d4aae",
   "metadata": {},
   "outputs": [
    {
     "data": {
      "text/plain": [
       "'[\"YouTube summary is a powerful Chrome browser plugin that once installed appears on the side of any YouTube video and allows you to instantly transcribe the video for free . it also connects with chat GPT and lets you use a few hidden features that I\\'m going to show you right now .\", \"it will change the text to say remove and you can come up here in the upper right hand corner of your browser and you should be able to see it right here it looks like a little piece of watermelon gum now if you don\\'t see it here then you want to click on this little puzzle piece that says extensions scroll down until you find it and then just click highlight the blue pin here and that will pin it up into this section here and you\\'re just about ready to uh to use it so let\\'s go\", \"this is my plugin right there so I can click on the down arrow and immediately you can see that the transcript is there it took like zero time whatsoever okay but this is a whole lot of text here and this app has some additional features that you can use . to get the most from this plugin you should find shorter videos so what I\\'m going to do is pick a shorter video so let\\'s take a look at this one is three minutes and 47 seconds let me click on that one here .\", \"eo I was making so let\\'s just kind of go back and see you see how that works you can also jump to the current time in the video so a lot of videos are divided into chapters and you can kind of see these little overlays on the bit you could see where the straight lines in between are those are the chapters you could also go into the description box here . we\\'ve got 106 benefits of fasting so i\\'m just gonna go to that uh chapter I\\'m gonna pause\", \"y will open right away look at that it\\'s automatically asking chat GPT to give me a summary of this video . now we can begin to play with the response like this write me another summary but break it down into easy to read bullet points that would function like a training manual manual and click go . so quickly I\\'m getting these great results that I can use to write my own blog to create some social media posts and all of that was done in just a few seconds using this great tool called YouTube summary .\", \"nstalling the chat GPT plugin directly so you can access chat from any website that you visit click on that video now and I\\'ll see you there .\"]'"
      ]
     },
     "execution_count": 14,
     "metadata": {},
     "output_type": "execute_result"
    }
   ],
   "source": [
    "str(summarized_text)"
   ]
  }
 ],
 "metadata": {
  "kernelspec": {
   "display_name": "Python 3 (ipykernel)",
   "language": "python",
   "name": "python3"
  },
  "language_info": {
   "codemirror_mode": {
    "name": "ipython",
    "version": 3
   },
   "file_extension": ".py",
   "mimetype": "text/x-python",
   "name": "python",
   "nbconvert_exporter": "python",
   "pygments_lexer": "ipython3",
   "version": "3.9.7"
  }
 },
 "nbformat": 4,
 "nbformat_minor": 5
}
